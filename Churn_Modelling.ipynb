{
  "nbformat": 4,
  "nbformat_minor": 0,
  "metadata": {
    "colab": {
      "provenance": [],
      "gpuType": "T4",
      "include_colab_link": true
    },
    "kernelspec": {
      "name": "python3",
      "display_name": "Python 3"
    },
    "language_info": {
      "name": "python"
    },
    "accelerator": "GPU"
  },
  "cells": [
    {
      "cell_type": "markdown",
      "metadata": {
        "id": "view-in-github",
        "colab_type": "text"
      },
      "source": [
        "<a href=\"https://colab.research.google.com/github/karthiksivakoti/Deep-Learning/blob/main/Churn%20Modelling/Churn_Modelling.ipynb\" target=\"_parent\"><img src=\"https://colab.research.google.com/assets/colab-badge.svg\" alt=\"Open In Colab\"/></a>"
      ]
    },
    {
      "cell_type": "code",
      "execution_count": null,
      "metadata": {
        "colab": {
          "base_uri": "https://localhost:8080/"
        },
        "id": "KMQO-lpC6lgI",
        "outputId": "03a37632-f12a-4785-90b5-dbe06ea6b399"
      },
      "outputs": [
        {
          "output_type": "stream",
          "name": "stdout",
          "text": [
            "Requirement already satisfied: tensorflow in /usr/local/lib/python3.10/dist-packages (2.15.0)\n",
            "Requirement already satisfied: absl-py>=1.0.0 in /usr/local/lib/python3.10/dist-packages (from tensorflow) (1.4.0)\n",
            "Requirement already satisfied: astunparse>=1.6.0 in /usr/local/lib/python3.10/dist-packages (from tensorflow) (1.6.3)\n",
            "Requirement already satisfied: flatbuffers>=23.5.26 in /usr/local/lib/python3.10/dist-packages (from tensorflow) (24.3.25)\n",
            "Requirement already satisfied: gast!=0.5.0,!=0.5.1,!=0.5.2,>=0.2.1 in /usr/local/lib/python3.10/dist-packages (from tensorflow) (0.5.4)\n",
            "Requirement already satisfied: google-pasta>=0.1.1 in /usr/local/lib/python3.10/dist-packages (from tensorflow) (0.2.0)\n",
            "Requirement already satisfied: h5py>=2.9.0 in /usr/local/lib/python3.10/dist-packages (from tensorflow) (3.9.0)\n",
            "Requirement already satisfied: libclang>=13.0.0 in /usr/local/lib/python3.10/dist-packages (from tensorflow) (18.1.1)\n",
            "Requirement already satisfied: ml-dtypes~=0.2.0 in /usr/local/lib/python3.10/dist-packages (from tensorflow) (0.2.0)\n",
            "Requirement already satisfied: numpy<2.0.0,>=1.23.5 in /usr/local/lib/python3.10/dist-packages (from tensorflow) (1.25.2)\n",
            "Requirement already satisfied: opt-einsum>=2.3.2 in /usr/local/lib/python3.10/dist-packages (from tensorflow) (3.3.0)\n",
            "Requirement already satisfied: packaging in /usr/local/lib/python3.10/dist-packages (from tensorflow) (24.1)\n",
            "Requirement already satisfied: protobuf!=4.21.0,!=4.21.1,!=4.21.2,!=4.21.3,!=4.21.4,!=4.21.5,<5.0.0dev,>=3.20.3 in /usr/local/lib/python3.10/dist-packages (from tensorflow) (3.20.3)\n",
            "Requirement already satisfied: setuptools in /usr/local/lib/python3.10/dist-packages (from tensorflow) (67.7.2)\n",
            "Requirement already satisfied: six>=1.12.0 in /usr/local/lib/python3.10/dist-packages (from tensorflow) (1.16.0)\n",
            "Requirement already satisfied: termcolor>=1.1.0 in /usr/local/lib/python3.10/dist-packages (from tensorflow) (2.4.0)\n",
            "Requirement already satisfied: typing-extensions>=3.6.6 in /usr/local/lib/python3.10/dist-packages (from tensorflow) (4.12.2)\n",
            "Requirement already satisfied: wrapt<1.15,>=1.11.0 in /usr/local/lib/python3.10/dist-packages (from tensorflow) (1.14.1)\n",
            "Requirement already satisfied: tensorflow-io-gcs-filesystem>=0.23.1 in /usr/local/lib/python3.10/dist-packages (from tensorflow) (0.37.0)\n",
            "Requirement already satisfied: grpcio<2.0,>=1.24.3 in /usr/local/lib/python3.10/dist-packages (from tensorflow) (1.64.1)\n",
            "Requirement already satisfied: tensorboard<2.16,>=2.15 in /usr/local/lib/python3.10/dist-packages (from tensorflow) (2.15.2)\n",
            "Requirement already satisfied: tensorflow-estimator<2.16,>=2.15.0 in /usr/local/lib/python3.10/dist-packages (from tensorflow) (2.15.0)\n",
            "Requirement already satisfied: keras<2.16,>=2.15.0 in /usr/local/lib/python3.10/dist-packages (from tensorflow) (2.15.0)\n",
            "Requirement already satisfied: wheel<1.0,>=0.23.0 in /usr/local/lib/python3.10/dist-packages (from astunparse>=1.6.0->tensorflow) (0.43.0)\n",
            "Requirement already satisfied: google-auth<3,>=1.6.3 in /usr/local/lib/python3.10/dist-packages (from tensorboard<2.16,>=2.15->tensorflow) (2.27.0)\n",
            "Requirement already satisfied: google-auth-oauthlib<2,>=0.5 in /usr/local/lib/python3.10/dist-packages (from tensorboard<2.16,>=2.15->tensorflow) (1.2.0)\n",
            "Requirement already satisfied: markdown>=2.6.8 in /usr/local/lib/python3.10/dist-packages (from tensorboard<2.16,>=2.15->tensorflow) (3.6)\n",
            "Requirement already satisfied: requests<3,>=2.21.0 in /usr/local/lib/python3.10/dist-packages (from tensorboard<2.16,>=2.15->tensorflow) (2.31.0)\n",
            "Requirement already satisfied: tensorboard-data-server<0.8.0,>=0.7.0 in /usr/local/lib/python3.10/dist-packages (from tensorboard<2.16,>=2.15->tensorflow) (0.7.2)\n",
            "Requirement already satisfied: werkzeug>=1.0.1 in /usr/local/lib/python3.10/dist-packages (from tensorboard<2.16,>=2.15->tensorflow) (3.0.3)\n",
            "Requirement already satisfied: cachetools<6.0,>=2.0.0 in /usr/local/lib/python3.10/dist-packages (from google-auth<3,>=1.6.3->tensorboard<2.16,>=2.15->tensorflow) (5.3.3)\n",
            "Requirement already satisfied: pyasn1-modules>=0.2.1 in /usr/local/lib/python3.10/dist-packages (from google-auth<3,>=1.6.3->tensorboard<2.16,>=2.15->tensorflow) (0.4.0)\n",
            "Requirement already satisfied: rsa<5,>=3.1.4 in /usr/local/lib/python3.10/dist-packages (from google-auth<3,>=1.6.3->tensorboard<2.16,>=2.15->tensorflow) (4.9)\n",
            "Requirement already satisfied: requests-oauthlib>=0.7.0 in /usr/local/lib/python3.10/dist-packages (from google-auth-oauthlib<2,>=0.5->tensorboard<2.16,>=2.15->tensorflow) (1.3.1)\n",
            "Requirement already satisfied: charset-normalizer<4,>=2 in /usr/local/lib/python3.10/dist-packages (from requests<3,>=2.21.0->tensorboard<2.16,>=2.15->tensorflow) (3.3.2)\n",
            "Requirement already satisfied: idna<4,>=2.5 in /usr/local/lib/python3.10/dist-packages (from requests<3,>=2.21.0->tensorboard<2.16,>=2.15->tensorflow) (3.7)\n",
            "Requirement already satisfied: urllib3<3,>=1.21.1 in /usr/local/lib/python3.10/dist-packages (from requests<3,>=2.21.0->tensorboard<2.16,>=2.15->tensorflow) (2.0.7)\n",
            "Requirement already satisfied: certifi>=2017.4.17 in /usr/local/lib/python3.10/dist-packages (from requests<3,>=2.21.0->tensorboard<2.16,>=2.15->tensorflow) (2024.6.2)\n",
            "Requirement already satisfied: MarkupSafe>=2.1.1 in /usr/local/lib/python3.10/dist-packages (from werkzeug>=1.0.1->tensorboard<2.16,>=2.15->tensorflow) (2.1.5)\n",
            "Requirement already satisfied: pyasn1<0.7.0,>=0.4.6 in /usr/local/lib/python3.10/dist-packages (from pyasn1-modules>=0.2.1->google-auth<3,>=1.6.3->tensorboard<2.16,>=2.15->tensorflow) (0.6.0)\n",
            "Requirement already satisfied: oauthlib>=3.0.0 in /usr/local/lib/python3.10/dist-packages (from requests-oauthlib>=0.7.0->google-auth-oauthlib<2,>=0.5->tensorboard<2.16,>=2.15->tensorflow) (3.2.2)\n"
          ]
        }
      ],
      "source": [
        "!pip install tensorflow"
      ]
    },
    {
      "cell_type": "code",
      "source": [
        "import tensorflow as tf"
      ],
      "metadata": {
        "id": "D2IliGyI62B0"
      },
      "execution_count": null,
      "outputs": []
    },
    {
      "cell_type": "code",
      "source": [
        "print(tf.__version__)"
      ],
      "metadata": {
        "colab": {
          "base_uri": "https://localhost:8080/"
        },
        "id": "4_fyxUHb7GuH",
        "outputId": "2d84d40e-9e56-4315-ed03-ebc22ed697a5"
      },
      "execution_count": null,
      "outputs": [
        {
          "output_type": "stream",
          "name": "stdout",
          "text": [
            "2.15.0\n"
          ]
        }
      ]
    },
    {
      "cell_type": "code",
      "source": [
        "# Importing the libraries\n",
        "import numpy as np\n",
        "import matplotlib.pyplot as plt\n",
        "import pandas as pd"
      ],
      "metadata": {
        "id": "LLvV2K-o7KAp"
      },
      "execution_count": null,
      "outputs": []
    },
    {
      "cell_type": "code",
      "source": [
        "# Importing the dataset\n",
        "dataset = pd.read_csv('Churn_Modelling.csv')\n",
        "X = dataset.iloc[:, 3:13]\n",
        "y = dataset.iloc[:, 13]"
      ],
      "metadata": {
        "id": "gHRHobkK7Sxn"
      },
      "execution_count": null,
      "outputs": []
    },
    {
      "cell_type": "code",
      "source": [
        "#Create dummy variables\n",
        "geography=pd.get_dummies(X[\"Geography\"],drop_first=True)\n",
        "gender=pd.get_dummies(X['Gender'],drop_first=True)"
      ],
      "metadata": {
        "id": "T2yS0VL67Ufn"
      },
      "execution_count": null,
      "outputs": []
    },
    {
      "cell_type": "code",
      "source": [
        "## Concatenate the Data Frames\n",
        "\n",
        "X=pd.concat([X,geography,gender],axis=1)\n",
        "\n",
        "## Drop Unnecessary columns\n",
        "X=X.drop(['Geography','Gender'],axis=1)\n",
        "\n",
        "# Splitting the dataset into the Training set and Test set\n",
        "from sklearn.model_selection import train_test_split\n",
        "X_train, X_test, y_train, y_test = train_test_split(X, y, test_size = 0.2, random_state = 0)\n"
      ],
      "metadata": {
        "id": "Co2rxaFR7Wgo"
      },
      "execution_count": null,
      "outputs": []
    },
    {
      "cell_type": "code",
      "source": [
        "# Feature Scaling\n",
        "from sklearn.preprocessing import StandardScaler\n",
        "sc = StandardScaler()\n",
        "X_train = sc.fit_transform(X_train)\n",
        "X_test = sc.transform(X_test)\n"
      ],
      "metadata": {
        "id": "GNZrZXy37ZLs"
      },
      "execution_count": null,
      "outputs": []
    },
    {
      "cell_type": "code",
      "source": [
        "# Part 2 - Now let's make the ANN!"
      ],
      "metadata": {
        "id": "uwN3bgie7bvT"
      },
      "execution_count": null,
      "outputs": []
    },
    {
      "cell_type": "code",
      "source": [
        "from tensorflow.keras.models import Sequential\n",
        "from tensorflow.keras.layers import Dense\n",
        "from tensorflow.keras.layers import LeakyReLU,PReLU,ELU\n",
        "from tensorflow.keras.layers import Dropout\n"
      ],
      "metadata": {
        "id": "rL_a7vWu7dj1"
      },
      "execution_count": null,
      "outputs": []
    },
    {
      "cell_type": "code",
      "source": [
        "# Initialising the ANN\n",
        "classifier = Sequential()"
      ],
      "metadata": {
        "id": "VDJwvrbZ7kj4"
      },
      "execution_count": null,
      "outputs": []
    },
    {
      "cell_type": "code",
      "source": [
        "# Adding the input layer and the first hidden layer\n",
        "classifier.add(Dense(units=11,activation='relu'))"
      ],
      "metadata": {
        "id": "RSZQrU-g7z4N"
      },
      "execution_count": null,
      "outputs": []
    },
    {
      "cell_type": "code",
      "source": [
        "# Adding the input layer and the first hidden layer\n",
        "classifier.add(Dense(units=6,activation='relu'))"
      ],
      "metadata": {
        "id": "byszZMvw8RcQ"
      },
      "execution_count": null,
      "outputs": []
    },
    {
      "cell_type": "code",
      "source": [
        "# Adding the input layer and the first hidden layer\n",
        "classifier.add(Dense(units=1,activation='relu'))"
      ],
      "metadata": {
        "id": "Mk2slmAX8XUI"
      },
      "execution_count": null,
      "outputs": []
    },
    {
      "cell_type": "code",
      "source": [
        "classifier.compile(optimizer='adam',loss='binary_crossentropy',metrics=['accuracy'])"
      ],
      "metadata": {
        "id": "F2udThHo8cFt"
      },
      "execution_count": null,
      "outputs": []
    },
    {
      "cell_type": "code",
      "source": [
        "model_history=classifier.fit(X_train,y_train,validation_split=0.33,batch_size=10,epochs=50)"
      ],
      "metadata": {
        "colab": {
          "base_uri": "https://localhost:8080/"
        },
        "id": "3qairJAs8fIc",
        "outputId": "e9125233-b8dc-46bf-dbe5-491afe5cd502"
      },
      "execution_count": null,
      "outputs": [
        {
          "output_type": "stream",
          "name": "stdout",
          "text": [
            "Epoch 1/50\n",
            "536/536 [==============================] - 19s 12ms/step - loss: 2.0067 - accuracy: 0.7651 - val_loss: 1.2799 - val_accuracy: 0.7172\n",
            "Epoch 2/50\n",
            "536/536 [==============================] - 5s 9ms/step - loss: 1.0104 - accuracy: 0.7494 - val_loss: 0.8538 - val_accuracy: 0.7232\n",
            "Epoch 3/50\n",
            "536/536 [==============================] - 5s 8ms/step - loss: 0.7140 - accuracy: 0.7587 - val_loss: 0.7181 - val_accuracy: 0.7482\n",
            "Epoch 4/50\n",
            "536/536 [==============================] - 3s 5ms/step - loss: 0.6509 - accuracy: 0.7778 - val_loss: 0.6646 - val_accuracy: 0.7698\n",
            "Epoch 5/50\n",
            "536/536 [==============================] - 3s 6ms/step - loss: 0.5929 - accuracy: 0.7845 - val_loss: 0.6118 - val_accuracy: 0.7705\n",
            "Epoch 6/50\n",
            "536/536 [==============================] - 2s 4ms/step - loss: 0.5566 - accuracy: 0.7876 - val_loss: 0.6052 - val_accuracy: 0.7793\n",
            "Epoch 7/50\n",
            "536/536 [==============================] - 3s 5ms/step - loss: 0.5404 - accuracy: 0.7934 - val_loss: 0.6064 - val_accuracy: 0.7933\n",
            "Epoch 8/50\n",
            "536/536 [==============================] - 2s 4ms/step - loss: 0.5368 - accuracy: 0.7990 - val_loss: 0.5545 - val_accuracy: 0.7891\n",
            "Epoch 9/50\n",
            "536/536 [==============================] - 3s 6ms/step - loss: 0.5204 - accuracy: 0.8001 - val_loss: 0.5661 - val_accuracy: 0.7933\n",
            "Epoch 10/50\n",
            "536/536 [==============================] - 3s 5ms/step - loss: 0.5180 - accuracy: 0.8022 - val_loss: 0.5701 - val_accuracy: 0.7857\n",
            "Epoch 11/50\n",
            "536/536 [==============================] - 2s 4ms/step - loss: 0.5094 - accuracy: 0.8065 - val_loss: 0.5681 - val_accuracy: 0.8020\n",
            "Epoch 12/50\n",
            "536/536 [==============================] - 2s 4ms/step - loss: 0.4892 - accuracy: 0.8119 - val_loss: 0.4923 - val_accuracy: 0.8050\n",
            "Epoch 13/50\n",
            "536/536 [==============================] - 2s 4ms/step - loss: 0.4702 - accuracy: 0.8121 - val_loss: 0.4916 - val_accuracy: 0.8095\n",
            "Epoch 14/50\n",
            "536/536 [==============================] - 3s 6ms/step - loss: 0.4638 - accuracy: 0.8210 - val_loss: 0.4881 - val_accuracy: 0.8103\n",
            "Epoch 15/50\n",
            "536/536 [==============================] - 3s 6ms/step - loss: 0.4569 - accuracy: 0.8244 - val_loss: 0.4598 - val_accuracy: 0.8141\n",
            "Epoch 16/50\n",
            "536/536 [==============================] - 3s 6ms/step - loss: 0.4702 - accuracy: 0.8210 - val_loss: 0.4691 - val_accuracy: 0.8209\n",
            "Epoch 17/50\n",
            "536/536 [==============================] - 2s 4ms/step - loss: 0.4429 - accuracy: 0.8296 - val_loss: 0.4498 - val_accuracy: 0.8220\n",
            "Epoch 18/50\n",
            "536/536 [==============================] - 2s 5ms/step - loss: 0.4258 - accuracy: 0.8354 - val_loss: 0.4657 - val_accuracy: 0.8243\n",
            "Epoch 19/50\n",
            "536/536 [==============================] - 3s 6ms/step - loss: 0.4279 - accuracy: 0.8354 - val_loss: 0.4709 - val_accuracy: 0.8118\n",
            "Epoch 20/50\n",
            "536/536 [==============================] - 2s 4ms/step - loss: 0.4109 - accuracy: 0.8393 - val_loss: 0.4618 - val_accuracy: 0.8281\n",
            "Epoch 21/50\n",
            "536/536 [==============================] - 2s 5ms/step - loss: 0.4234 - accuracy: 0.8429 - val_loss: 0.4674 - val_accuracy: 0.8292\n",
            "Epoch 22/50\n",
            "536/536 [==============================] - 3s 5ms/step - loss: 0.4179 - accuracy: 0.8438 - val_loss: 0.4631 - val_accuracy: 0.8292\n",
            "Epoch 23/50\n",
            "536/536 [==============================] - 2s 4ms/step - loss: 0.4104 - accuracy: 0.8479 - val_loss: 0.4691 - val_accuracy: 0.8054\n",
            "Epoch 24/50\n",
            "536/536 [==============================] - 3s 6ms/step - loss: 0.4027 - accuracy: 0.8457 - val_loss: 0.4316 - val_accuracy: 0.8304\n",
            "Epoch 25/50\n",
            "536/536 [==============================] - 2s 4ms/step - loss: 0.3930 - accuracy: 0.8502 - val_loss: 0.4618 - val_accuracy: 0.8357\n",
            "Epoch 26/50\n",
            "536/536 [==============================] - 2s 4ms/step - loss: 0.4148 - accuracy: 0.8513 - val_loss: 0.4686 - val_accuracy: 0.8338\n",
            "Epoch 27/50\n",
            "536/536 [==============================] - 2s 4ms/step - loss: 0.4121 - accuracy: 0.8550 - val_loss: 0.4707 - val_accuracy: 0.8376\n",
            "Epoch 28/50\n",
            "536/536 [==============================] - 2s 4ms/step - loss: 0.4143 - accuracy: 0.8556 - val_loss: 0.4736 - val_accuracy: 0.8406\n",
            "Epoch 29/50\n",
            "536/536 [==============================] - 4s 7ms/step - loss: 0.3978 - accuracy: 0.8498 - val_loss: 0.4811 - val_accuracy: 0.8432\n",
            "Epoch 30/50\n",
            "536/536 [==============================] - 2s 4ms/step - loss: 0.4013 - accuracy: 0.8554 - val_loss: 0.4616 - val_accuracy: 0.8417\n",
            "Epoch 31/50\n",
            "536/536 [==============================] - 2s 4ms/step - loss: 0.4270 - accuracy: 0.8347 - val_loss: 0.4384 - val_accuracy: 0.8387\n",
            "Epoch 32/50\n",
            "536/536 [==============================] - 2s 4ms/step - loss: 0.3956 - accuracy: 0.8518 - val_loss: 0.4611 - val_accuracy: 0.8387\n",
            "Epoch 33/50\n",
            "536/536 [==============================] - 2s 4ms/step - loss: 0.3828 - accuracy: 0.8545 - val_loss: 0.4767 - val_accuracy: 0.8413\n",
            "Epoch 34/50\n",
            "536/536 [==============================] - 4s 7ms/step - loss: 0.3825 - accuracy: 0.8571 - val_loss: 0.5137 - val_accuracy: 0.8417\n",
            "Epoch 35/50\n",
            "536/536 [==============================] - 2s 5ms/step - loss: 0.3937 - accuracy: 0.8580 - val_loss: 0.5067 - val_accuracy: 0.8417\n",
            "Epoch 36/50\n",
            "536/536 [==============================] - 2s 4ms/step - loss: 0.4204 - accuracy: 0.8487 - val_loss: 0.5032 - val_accuracy: 0.8175\n",
            "Epoch 37/50\n",
            "536/536 [==============================] - 3s 6ms/step - loss: 0.4145 - accuracy: 0.8470 - val_loss: 0.4700 - val_accuracy: 0.8436\n",
            "Epoch 38/50\n",
            "536/536 [==============================] - 5s 8ms/step - loss: 0.3927 - accuracy: 0.8528 - val_loss: 0.4628 - val_accuracy: 0.8436\n",
            "Epoch 39/50\n",
            "536/536 [==============================] - 3s 5ms/step - loss: 0.3850 - accuracy: 0.8539 - val_loss: 0.4700 - val_accuracy: 0.8402\n",
            "Epoch 40/50\n",
            "536/536 [==============================] - 2s 4ms/step - loss: 0.3811 - accuracy: 0.8580 - val_loss: 0.4854 - val_accuracy: 0.8432\n",
            "Epoch 41/50\n",
            "536/536 [==============================] - 2s 4ms/step - loss: 0.3836 - accuracy: 0.8600 - val_loss: 0.5142 - val_accuracy: 0.8482\n",
            "Epoch 42/50\n",
            "536/536 [==============================] - 2s 4ms/step - loss: 0.3939 - accuracy: 0.8554 - val_loss: 0.4828 - val_accuracy: 0.8254\n",
            "Epoch 43/50\n",
            "536/536 [==============================] - 3s 5ms/step - loss: 0.3957 - accuracy: 0.8571 - val_loss: 0.4930 - val_accuracy: 0.8413\n",
            "Epoch 44/50\n",
            "536/536 [==============================] - 3s 5ms/step - loss: 0.3797 - accuracy: 0.8572 - val_loss: 0.4795 - val_accuracy: 0.8436\n",
            "Epoch 45/50\n",
            "536/536 [==============================] - 2s 4ms/step - loss: 0.3749 - accuracy: 0.8561 - val_loss: 0.4606 - val_accuracy: 0.8436\n",
            "Epoch 46/50\n",
            "536/536 [==============================] - 2s 4ms/step - loss: 0.3752 - accuracy: 0.8602 - val_loss: 0.6317 - val_accuracy: 0.8304\n",
            "Epoch 47/50\n",
            "536/536 [==============================] - 2s 4ms/step - loss: 0.3933 - accuracy: 0.8526 - val_loss: 0.4824 - val_accuracy: 0.8296\n",
            "Epoch 48/50\n",
            "536/536 [==============================] - 3s 5ms/step - loss: 0.3912 - accuracy: 0.8556 - val_loss: 0.4660 - val_accuracy: 0.8391\n",
            "Epoch 49/50\n",
            "536/536 [==============================] - 3s 6ms/step - loss: 0.3855 - accuracy: 0.8578 - val_loss: 0.4701 - val_accuracy: 0.8417\n",
            "Epoch 50/50\n",
            "536/536 [==============================] - 2s 4ms/step - loss: 0.3792 - accuracy: 0.8595 - val_loss: 0.4685 - val_accuracy: 0.8425\n"
          ]
        }
      ]
    },
    {
      "cell_type": "code",
      "source": [
        "# list all data in history\n",
        "\n",
        "print(model_history.history.keys())"
      ],
      "metadata": {
        "colab": {
          "base_uri": "https://localhost:8080/"
        },
        "id": "Q9t_M4wICTTz",
        "outputId": "b090df9e-1dba-45a5-8109-b7e8a46b351d"
      },
      "execution_count": null,
      "outputs": [
        {
          "output_type": "stream",
          "name": "stdout",
          "text": [
            "dict_keys(['loss', 'accuracy', 'val_loss', 'val_accuracy'])\n"
          ]
        }
      ]
    },
    {
      "cell_type": "code",
      "source": [
        "\n",
        "# summarize history for accuracy\n",
        "plt.plot(model_history.history['accuracy'])\n",
        "plt.plot(model_history.history['val_accuracy'])\n",
        "plt.title('model accuracy')\n",
        "plt.ylabel('accuracy')\n",
        "plt.xlabel('epoch')\n",
        "plt.legend(['train', 'test'], loc='upper left')\n",
        "plt.show()"
      ],
      "metadata": {
        "colab": {
          "base_uri": "https://localhost:8080/",
          "height": 472
        },
        "id": "MMOyiwzgBlLY",
        "outputId": "1cfcacdc-0b3a-4d96-a3b5-159bc9cc638d"
      },
      "execution_count": null,
      "outputs": [
        {
          "output_type": "display_data",
          "data": {
            "text/plain": [
              "<Figure size 640x480 with 1 Axes>"
            ],
            "image/png": "[encoded data removed]"
          },
          "metadata": {}
        }
      ]
    },
    {
      "cell_type": "code",
      "source": [
        "# summarize history for loss\n",
        "plt.plot(model_history.history['loss'])\n",
        "plt.plot(model_history.history['val_loss'])\n",
        "plt.title('model loss')\n",
        "plt.ylabel('loss')\n",
        "plt.xlabel('epoch')\n",
        "plt.legend(['train', 'test'], loc='upper left')\n",
        "plt.show()"
      ],
      "metadata": {
        "colab": {
          "base_uri": "https://localhost:8080/",
          "height": 472
        },
        "id": "QH141RsQCEr0",
        "outputId": "a109a421-29cd-466e-e278-93b051ce496d"
      },
      "execution_count": null,
      "outputs": [
        {
          "output_type": "display_data",
          "data": {
            "text/plain": [
              "<Figure size 640x480 with 1 Axes>"
            ],
            "image/png": "[encoded data removed]"
          },
          "metadata": {}
        }
      ]
    },
    {
      "cell_type": "code",
      "source": [
        "# Part 3 - Making the predictions and evaluating the model\n",
        "\n",
        "# Predicting the Test set results\n",
        "y_pred = classifier.predict(X_test)\n",
        "y_pred = (y_pred > 0.5)"
      ],
      "metadata": {
        "id": "OYqCIIkDCd8S",
        "colab": {
          "base_uri": "https://localhost:8080/"
        },
        "outputId": "fb24a0fa-f62e-4f83-f0a3-4cef83acabbc"
      },
      "execution_count": null,
      "outputs": [
        {
          "output_type": "stream",
          "name": "stdout",
          "text": [
            "63/63 [==============================] - 0s 1ms/step\n"
          ]
        }
      ]
    },
    {
      "cell_type": "code",
      "source": [
        "# Making the Confusion Matrix\n",
        "from sklearn.metrics import confusion_matrix\n",
        "cm = confusion_matrix(y_test, y_pred)\n",
        "cm"
      ],
      "metadata": {
        "colab": {
          "base_uri": "https://localhost:8080/"
        },
        "id": "cm3EeOGTCi3-",
        "outputId": "1cc26316-63fd-4b50-cc2b-d9d19400bb27"
      },
      "execution_count": null,
      "outputs": [
        {
          "output_type": "execute_result",
          "data": {
            "text/plain": [
              "array([[1525,   70],\n",
              "       [ 202,  203]])"
            ]
          },
          "metadata": {},
          "execution_count": 31
        }
      ]
    },
    {
      "cell_type": "code",
      "source": [
        "# Calculate the Accuracy\n",
        "from sklearn.metrics import accuracy_score\n",
        "score=accuracy_score(y_pred,y_test)"
      ],
      "metadata": {
        "id": "FgfRKzzOClmP"
      },
      "execution_count": null,
      "outputs": []
    },
    {
      "cell_type": "code",
      "source": [
        "score"
      ],
      "metadata": {
        "colab": {
          "base_uri": "https://localhost:8080/"
        },
        "id": "a_C5EETrCpSj",
        "outputId": "1c653169-ed79-4efc-9435-242447aa9a04"
      },
      "execution_count": null,
      "outputs": [
        {
          "output_type": "execute_result",
          "data": {
            "text/plain": [
              "0.864"
            ]
          },
          "metadata": {},
          "execution_count": 33
        }
      ]
    },
    {
      "cell_type": "code",
      "source": [],
      "metadata": {
        "id": "UTvHAjYWCqWx"
      },
      "execution_count": null,
      "outputs": []
    }
  ]
}